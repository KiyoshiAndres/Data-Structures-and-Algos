{
 "cells": [
  {
   "cell_type": "markdown",
   "id": "c75cc4c1",
   "metadata": {},
   "source": [
    "First Algorithm: Insertion Sort\n",
    "<br>\n",
    "Time complexity: $\\mathcal{O}(n^2)$.\n",
    "<br>\n",
    "Input: A sequence of $n$ numbers $S_n=(a_1,\\ldots,a_n)$.\n",
    "<br>\n",
    "Output: A permutation of the sequence $S_n$ such that $a_i\\leq a_j$ if $i<j$."
   ]
  },
  {
   "cell_type": "code",
   "execution_count": null,
   "id": "a98a7dd8",
   "metadata": {},
   "outputs": [],
   "source": [
    "def insert_sort(arr: list):\n",
    "    for j in range(1, len(arr)):\n",
    "        key = arr[j]\n",
    "        i = j - 1\n",
    "        while i >= 0 and arr[i] > key:\n",
    "            arr[i + 1] = arr[i]\n",
    "            i -= 1\n",
    "            # To check what it is doing.\n",
    "            print(arr)\n",
    "        arr[i + 1] = key\n",
    "    print(A)\n",
    "# Example\n",
    "A: list = [5, 4, 3, 7, 4, 2]\n",
    "insert_sort(A)"
   ]
  }
 ],
 "metadata": {
  "kernelspec": {
   "display_name": "Python 3 (ipykernel)",
   "language": "python",
   "name": "python3"
  },
  "language_info": {
   "codemirror_mode": {
    "name": "ipython",
    "version": 3
   },
   "file_extension": ".py",
   "mimetype": "text/x-python",
   "name": "python",
   "nbconvert_exporter": "python",
   "pygments_lexer": "ipython3",
   "version": "3.8.12"
  }
 },
 "nbformat": 4,
 "nbformat_minor": 5
}
