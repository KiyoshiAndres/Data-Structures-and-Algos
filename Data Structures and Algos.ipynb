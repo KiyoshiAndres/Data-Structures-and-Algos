{
 "cells": [
  {
   "cell_type": "markdown",
   "id": "c75cc4c1",
   "metadata": {},
   "source": [
    "First Algorithm: Insertion Sort\n",
    "<br>\n",
    "Time complexity: $\\mathcal{O}(n^2)$.\n",
    "<br>\n",
    "Input: A sequence of $n$ numbers $S_n=(a_1,\\ldots,a_n)$.\n",
    "<br>\n",
    "Output: A permutation of the sequence $S_n$ such that $a_i\\leq a_j$ if $i<j$."
   ]
  },
  {
   "cell_type": "code",
   "execution_count": null,
   "id": "3ae01aec",
   "metadata": {},
   "outputs": [],
   "source": []
  }
 ],
 "metadata": {
  "kernelspec": {
   "display_name": "Python 3 (ipykernel)",
   "language": "python",
   "name": "python3"
  },
  "language_info": {
   "codemirror_mode": {
    "name": "ipython",
    "version": 3
   },
   "file_extension": ".py",
   "mimetype": "text/x-python",
   "name": "python",
   "nbconvert_exporter": "python",
   "pygments_lexer": "ipython3",
   "version": "3.8.12"
  }
 },
 "nbformat": 4,
 "nbformat_minor": 5
}
