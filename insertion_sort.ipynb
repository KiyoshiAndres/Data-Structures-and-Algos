{
 "cells": [
  {
   "cell_type": "markdown",
   "id": "c75cc4c1",
   "metadata": {},
   "source": [
    "First Algorithm: Insertion Sort\n",
    "<br>\n",
    "Time complexity: $\\mathcal{O}(n^2)$.\n",
    "<br>\n",
    "Input: A sequence of $n$ numbers $S_n=(a_1,\\ldots,a_n)$.\n",
    "<br>\n",
    "Output: A permutation of the sequence $S_n$ such that $a_i\\leq a_j$ if $i<j$."
   ]
  },
  {
   "cell_type": "code",
   "execution_count": 1,
   "id": "06cf5a7a",
   "metadata": {},
   "outputs": [
    {
     "name": "stdout",
     "output_type": "stream",
     "text": [
      "[5, 5, 3, 7, 4, 2]\n",
      "[4, 5, 5, 7, 4, 2]\n",
      "[4, 4, 5, 7, 4, 2]\n",
      "[3, 4, 5, 7, 7, 2]\n",
      "[3, 4, 5, 5, 7, 2]\n",
      "[3, 4, 4, 5, 7, 7]\n",
      "[3, 4, 4, 5, 5, 7]\n",
      "[3, 4, 4, 4, 5, 7]\n",
      "[3, 4, 4, 4, 5, 7]\n",
      "[3, 3, 4, 4, 5, 7]\n",
      "[2, 3, 4, 4, 5, 7]\n"
     ]
    }
   ],
   "source": [
    "def insert_sort(arr: list):\n",
    "    for j in range(1, len(arr)):\n",
    "        key = arr[j]\n",
    "        i = j - 1\n",
    "        while i >= 0 and arr[i] > key:\n",
    "            arr[i + 1] = arr[i]\n",
    "            i -= 1\n",
    "            # To check what it is doing.\n",
    "            print(arr)\n",
    "        arr[i + 1] = key\n",
    "    print(A)\n",
    "# Example\n",
    "A: list = [5, 4, 3, 7, 4, 2]\n",
    "insert_sort(A)"
   ]
  },
  {
   "cell_type": "markdown",
   "id": "6d4a61b2",
   "metadata": {},
   "source": [
    "You pick a cell from left to right. Then you compare it with the element to its left. If it is smaller, you compare it to the next left element, and proceed as such."
   ]
  },
  {
   "cell_type": "markdown",
   "id": "aa0aeb94",
   "metadata": {},
   "source": [
    "Definition: A loop invariant is a statement that is true at the beginning of each iteration of the loop. For example, the elements of the subarray of $A$ going from $A[0]$ to $A[j-1]$ are the elements of the original array of $A$ also from $A[0]$ to $A[j-1]$, but ordered."
   ]
  },
  {
   "cell_type": "markdown",
   "id": "7c55ea46",
   "metadata": {},
   "source": [
    "There are three properties that must be shown about a loop invariant:\n",
    "<br>\n",
    "Intialization: It is true before the first iteration.\n",
    "<br>\n",
    "Maintenance: If it is true before an iteration, it remains true after the iteration.\n",
    "<br>\n",
    "Termination: It is useful when the loop terminates."
   ]
  },
  {
   "cell_type": "code",
   "execution_count": null,
   "id": "cb5defab",
   "metadata": {},
   "outputs": [],
   "source": []
  }
 ],
 "metadata": {
  "kernelspec": {
   "display_name": "Python 3 (ipykernel)",
   "language": "python",
   "name": "python3"
  },
  "language_info": {
   "codemirror_mode": {
    "name": "ipython",
    "version": 3
   },
   "file_extension": ".py",
   "mimetype": "text/x-python",
   "name": "python",
   "nbconvert_exporter": "python",
   "pygments_lexer": "ipython3",
   "version": "3.8.12"
  }
 },
 "nbformat": 4,
 "nbformat_minor": 5
}
